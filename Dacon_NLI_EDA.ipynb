{
  "nbformat": 4,
  "nbformat_minor": 0,
  "metadata": {
    "colab": {
      "name": "Dacon_NLI_EDA",
      "provenance": [],
      "toc_visible": true,
      "mount_file_id": "1qSDIIfQs9w13_cQEJSjcyChDdt1ysFar",
      "authorship_tag": "ABX9TyPntJ/eVdePWLxGnVNAgLz/",
      "include_colab_link": true
    },
    "kernelspec": {
      "name": "python3",
      "display_name": "Python 3"
    },
    "language_info": {
      "name": "python"
    }
  },
  "cells": [
    {
      "cell_type": "markdown",
      "metadata": {
        "id": "view-in-github",
        "colab_type": "text"
      },
      "source": [
        "<a href=\"https://colab.research.google.com/github/ssunggun2/2022_dacon_NLI/blob/main/Dacon_NLI_EDA.ipynb\" target=\"_parent\"><img src=\"https://colab.research.google.com/assets/colab-badge.svg\" alt=\"Open In Colab\"/></a>"
      ]
    },
    {
      "cell_type": "markdown",
      "source": [
        "# 인스톨"
      ],
      "metadata": {
        "id": "BPfAvPqZzC12"
      }
    },
    {
      "cell_type": "code",
      "source": [
        "!pip install konlpy"
      ],
      "metadata": {
        "colab": {
          "base_uri": "https://localhost:8080/"
        },
        "id": "24VJ5OiWyiau",
        "outputId": "3c0a1fb3-8e54-4a26-cbd3-7988a680107d"
      },
      "execution_count": 22,
      "outputs": [
        {
          "output_type": "stream",
          "name": "stdout",
          "text": [
            "Collecting konlpy\n",
            "  Downloading konlpy-0.6.0-py2.py3-none-any.whl (19.4 MB)\n",
            "\u001b[K     |████████████████████████████████| 19.4 MB 5.4 MB/s \n",
            "\u001b[?25hRequirement already satisfied: numpy>=1.6 in /usr/local/lib/python3.7/dist-packages (from konlpy) (1.21.5)\n",
            "Collecting JPype1>=0.7.0\n",
            "  Downloading JPype1-1.3.0-cp37-cp37m-manylinux_2_5_x86_64.manylinux1_x86_64.whl (448 kB)\n",
            "\u001b[K     |████████████████████████████████| 448 kB 47.4 MB/s \n",
            "\u001b[?25hRequirement already satisfied: lxml>=4.1.0 in /usr/local/lib/python3.7/dist-packages (from konlpy) (4.2.6)\n",
            "Requirement already satisfied: typing-extensions in /usr/local/lib/python3.7/dist-packages (from JPype1>=0.7.0->konlpy) (3.10.0.2)\n",
            "Installing collected packages: JPype1, konlpy\n",
            "Successfully installed JPype1-1.3.0 konlpy-0.6.0\n"
          ]
        }
      ]
    },
    {
      "cell_type": "markdown",
      "source": [
        "# 구글 코랩 마운트"
      ],
      "metadata": {
        "id": "_YW8JvTfzN4C"
      }
    },
    {
      "cell_type": "code",
      "source": [
        "from google import colab\n",
        "colab.drive.mount(\"/content/drive\")"
      ],
      "metadata": {
        "id": "f3PH4tMWywBf"
      },
      "execution_count": null,
      "outputs": []
    },
    {
      "cell_type": "markdown",
      "source": [
        "# 패키지 불러오기 및 폰트 설정"
      ],
      "metadata": {
        "id": "3Z90JIXNzFH9"
      }
    },
    {
      "cell_type": "code",
      "execution_count": 23,
      "metadata": {
        "id": "_BSd11L9u79j"
      },
      "outputs": [],
      "source": [
        "import os\n",
        "import pandas as pd\n",
        "from zipfile import ZipFile\n",
        "from google.colab import data_table\n",
        "from glob import glob\n",
        "import numpy as np\n",
        "from tqdm import tqdm, tqdm_notebook\n",
        "\n",
        "from konlpy.tag import Okt\n",
        "from collections import Counter\n",
        "from wordcloud import WordCloud\n",
        "\n",
        "data_table.enable_dataframe_formatter()"
      ]
    },
    {
      "cell_type": "code",
      "source": [
        "import matplotlib\n",
        "%matplotlib inline\n",
        "\n",
        "import matplotlib.pyplot as plt \n",
        "import matplotlib.font_manager as fm  \n",
        "\n",
        "!apt-get update -qq\n",
        "!apt-get install fonts-nanum* -qq\n",
        "\n",
        "font_path = '/usr/share/fonts/truetype/nanum/NanumBarunGothic.ttf'\n",
        "font_name = fm.FontProperties(fname=font_path, size=10).get_name()\n",
        "print(font_name)\n",
        "plt.rc('font', family=font_name)\n",
        "\n",
        "fm._rebuild()\n",
        "matplotlib.rcParams['axes.unicode_minus'] = False"
      ],
      "metadata": {
        "colab": {
          "base_uri": "https://localhost:8080/"
        },
        "id": "JlhkxJsDyZS5",
        "outputId": "4ddf5a40-322c-440d-afc6-a2ca55146d31"
      },
      "execution_count": 21,
      "outputs": [
        {
          "output_type": "stream",
          "name": "stdout",
          "text": [
            "Selecting previously unselected package fonts-nanum.\n",
            "(Reading database ... 155113 files and directories currently installed.)\n",
            "Preparing to unpack .../fonts-nanum_20170925-1_all.deb ...\n",
            "Unpacking fonts-nanum (20170925-1) ...\n",
            "Selecting previously unselected package fonts-nanum-eco.\n",
            "Preparing to unpack .../fonts-nanum-eco_1.000-6_all.deb ...\n",
            "Unpacking fonts-nanum-eco (1.000-6) ...\n",
            "Selecting previously unselected package fonts-nanum-extra.\n",
            "Preparing to unpack .../fonts-nanum-extra_20170925-1_all.deb ...\n",
            "Unpacking fonts-nanum-extra (20170925-1) ...\n",
            "Selecting previously unselected package fonts-nanum-coding.\n",
            "Preparing to unpack .../fonts-nanum-coding_2.5-1_all.deb ...\n",
            "Unpacking fonts-nanum-coding (2.5-1) ...\n",
            "Setting up fonts-nanum-extra (20170925-1) ...\n",
            "Setting up fonts-nanum (20170925-1) ...\n",
            "Setting up fonts-nanum-coding (2.5-1) ...\n",
            "Setting up fonts-nanum-eco (1.000-6) ...\n",
            "Processing triggers for fontconfig (2.12.6-0ubuntu2) ...\n",
            "NanumBarunGothic\n"
          ]
        }
      ]
    },
    {
      "cell_type": "markdown",
      "source": [
        "# 자료 불러오기"
      ],
      "metadata": {
        "id": "vkNrB_lhzf0o"
      }
    },
    {
      "cell_type": "code",
      "source": [
        "zip_dir = '/content/drive/MyDrive/화요일 스터디 폴더/dacon'\n",
        "zip_name = 'open.zip'\n",
        "zip_fPath = os.path.join(zip_dir, zip_name)\n",
        "\n",
        "with ZipFile(zip_fPath, 'r') as zip:\n",
        "    zip.printdir()\n",
        "    zip.extractall() "
      ],
      "metadata": {
        "colab": {
          "base_uri": "https://localhost:8080/"
        },
        "id": "hVdlgkGlvb-5",
        "outputId": "227e1564-3ecf-4b35-b67b-415492a8815e"
      },
      "execution_count": 15,
      "outputs": [
        {
          "output_type": "stream",
          "name": "stdout",
          "text": [
            "File Name                                             Modified             Size\n",
            "open/sample_submission.csv                     2022-01-25 15:19:44        18894\n",
            "open/test_data.csv                             2022-01-25 15:19:46       320363\n",
            "open/train_data.csv                            2022-01-25 17:30:34      4855176\n"
          ]
        }
      ]
    },
    {
      "cell_type": "code",
      "source": [
        "train = pd.read_csv('/content/open/train_data.csv')\n",
        "test = pd.read_csv('/content/open/test_data.csv')\n",
        "submission = pd.read_csv('/content/open/sample_submission.csv')\n",
        "train.head()"
      ],
      "metadata": {
        "colab": {
          "base_uri": "https://localhost:8080/",
          "height": 195
        },
        "id": "cP8i8CTyvw9G",
        "outputId": "f9496e4b-f4c6-4b2b-d293-8c2c7d7b9668"
      },
      "execution_count": 25,
      "outputs": [
        {
          "output_type": "execute_result",
          "data": {
            "application/vnd.google.colaboratory.module+javascript": "\n      import \"https://ssl.gstatic.com/colaboratory/data_table/81f25a011006ed3d/data_table.js\";\n\n      window.createDataTable({\n        data: [[{\n            'v': 0,\n            'f': \"0\",\n        },\n{\n            'v': 0,\n            'f': \"0\",\n        },\n\"\\uc528\\ub984\\uc740 \\uc0c1\\uace0\\uc2dc\\ub300\\ub85c\\ubd80\\ud130 \\uc804\\ud574\\uc838 \\ub0b4\\ub824\\uc624\\ub294 \\ub0a8\\uc790\\ub4e4\\uc758 \\ub300\\ud45c\\uc801\\uc778 \\ub180\\uc774\\ub85c\\uc11c, \\uc18c\\ub144\\uc774\\ub098 \\uc7a5\\uc815\\ub4e4\\uc774 \\ub113\\uace0 \\ud3c9\\ud3c9\\ud55c \\ubc31\\uc0ac\\uc7a5\\uc774\\ub098 \\ub9c8\\ub2f9\\uc5d0\\uc11c \\ubaa8\\uc5ec \\uc11c\\ub85c \\ud798\\uacfc \\uc2ac\\uae30\\ub97c \\uaca8\\ub8e8\\ub294 \\uac83\\uc774\\ub2e4.\",\n\"\\uc528\\ub984\\uc758 \\uc5ec\\uc790\\ub4e4\\uc758 \\ub180\\uc774\\uc774\\ub2e4.\",\n\"contradiction\"],\n [{\n            'v': 1,\n            'f': \"1\",\n        },\n{\n            'v': 1,\n            'f': \"1\",\n        },\n\"\\uc0bc\\uc131\\uc740 \\uc790\\uc791\\uadf9\\uc744 \\ubc8c\\uc778 2\\uba85\\uc5d0\\uac8c \\ud615\\uc0ac \\uace0\\uc18c \\ub4f1\\uc758 \\ubc95\\uc801 \\ub300\\uc751\\uc744 \\uac80\\ud1a0 \\uc911\\uc774\\ub77c\\uace0 \\ud558\\uc600\\uc73c\\ub098, \\uc911\\uad6d \\ub0b4\\uc5d0\\uc11c\\uc758 \\uc5ec\\ub860\\uc740 \\uc790\\uc791\\uadf9\\uc774\\ub77c\\ub294 \\uc99d\\uac70\\uac00 \\ucda9\\ubd84\\ud568\\uc5d0\\ub3c4 \\ubd88\\uad6c\\ud558\\uace0 \\uc88b\\uc9c0 \\uc54a\\ub2e4.\",\n\"\\uc790\\uc791\\uadf9\\uc744 \\ubc8c\\uc778 \\uc774\\ub294 3\\uba85\\uc774\\ub2e4.\",\n\"contradiction\"],\n [{\n            'v': 2,\n            'f': \"2\",\n        },\n{\n            'v': 2,\n            'f': \"2\",\n        },\n\"\\uc774\\ub97c \\uc704\\ud574 \\uc608\\uce21\\uc801 \\ubc94\\uc8c4\\uc608\\ubc29 \\uc2dc\\uc2a4\\ud15c\\uc744 \\uad6c\\ucd95\\ud558\\uace0 \\uace0\\ub3c4\\ud654\\ud55c\\ub2e4.\",\n\"\\uc608\\uce21\\uc801 \\ubc94\\uc8c4\\uc608\\ubc29 \\uc2dc\\uc2a4\\ud15c \\uad6c\\ucd95\\ud558\\uace0 \\uace0\\ub3c4\\ud654\\ud558\\ub294 \\uac83\\uc740 \\ubaa9\\uc801\\uc774 \\uc788\\uae30 \\ub54c\\ubb38\\uc774\\ub2e4.\",\n\"entailment\"],\n [{\n            'v': 3,\n            'f': \"3\",\n        },\n{\n            'v': 3,\n            'f': \"3\",\n        },\n\"\\uad11\\uc8fc\\uad11\\uc5ed\\uc2dc\\uac00 \\uc7ac\\uac1c\\ubc1c \\uc815\\ube44\\uc0ac\\uc5c5 \\uc6d0\\uc8fc\\ubbfc\\ub4e4\\uc5d0 \\ub300\\ud55c \\uc885\\ud569\\ub300\\ucc45\\uc744 \\ub9c8\\ub828\\ud558\\ub294 \\ub4f1 \\uc6d0\\uc8fc\\ubbfc \\ubcf4\\ud638\\uc5d0 \\uc801\\uadf9 \\ub098\\uc130\\ub2e4.\",\n\"\\uc6d0\\uc8fc\\ubbfc\\ub4e4\\uc740 \\uc885\\ud569\\ub300\\ucc45\\uc5d0 \\ub9cc\\uc871\\ud588\\ub2e4.\",\n\"neutral\"],\n [{\n            'v': 4,\n            'f': \"4\",\n        },\n{\n            'v': 4,\n            'f': \"4\",\n        },\n\"\\uc9c4\\uc815 \\uc18c\\ube44\\uc790\\uc640 \\uc9c1\\uc6d0\\ub4e4\\uc5d0\\uac8c \\uc0ac\\ub791 \\ubc1b\\ub294 \\uae30\\uc5c5\\uc73c\\ub85c \\uc624\\ub798 \\uc9c0\\uc18d\\ub418\\uace0 \\uc2f6\\uc73c\\uba74, \\uc774\\ub7f0 \\uc0c1\\ud669\\uc5d0\\uc11c\\ub294 \\ucc45\\uc784 \\uc788\\ub294 \\ubaa8\\uc2b5\\uc744 \\ubcf4\\uc5ec\\uc8fc\\ub294 \\uac83\\uc774 \\ud544\\uc694\\ud558\\ub2e4.\",\n\"\\uc774\\ub7f0 \\uc0c1\\ud669\\uc5d0\\uc11c \\ucc45\\uc784 \\uc788\\ub294 \\ubaa8\\uc2b5\\uc744 \\ubcf4\\uc5ec\\uc8fc\\ub294 \\uae30\\uc5c5\\uc740 \\uc544\\uc8fc \\ub4dc\\ubb3c\\ub2e4.\",\n\"neutral\"]],\n        columns: [[\"number\", \"level_0\"], [\"number\", \"index\"], [\"string\", \"premise\"], [\"string\", \"hypothesis\"], [\"string\", \"label\"]],\n        columnOptions: [{\"width\": \"1px\", \"className\": \"index_column\"}],\n        rowsPerPage: 25,\n        helpUrl: \"https://colab.research.google.com/notebooks/data_table.ipynb\",\n        suppressOutputScrolling: true,\n        minimumWidth: undefined,\n      });\n    ",
            "text/html": [
              "\n",
              "  <div id=\"df-1cc8c5bd-e9ab-41f8-b1bb-b3e1a967d88e\">\n",
              "    <div class=\"colab-df-container\">\n",
              "      <div>\n",
              "<style scoped>\n",
              "    .dataframe tbody tr th:only-of-type {\n",
              "        vertical-align: middle;\n",
              "    }\n",
              "\n",
              "    .dataframe tbody tr th {\n",
              "        vertical-align: top;\n",
              "    }\n",
              "\n",
              "    .dataframe thead th {\n",
              "        text-align: right;\n",
              "    }\n",
              "</style>\n",
              "<table border=\"1\" class=\"dataframe\">\n",
              "  <thead>\n",
              "    <tr style=\"text-align: right;\">\n",
              "      <th></th>\n",
              "      <th>index</th>\n",
              "      <th>premise</th>\n",
              "      <th>hypothesis</th>\n",
              "      <th>label</th>\n",
              "    </tr>\n",
              "  </thead>\n",
              "  <tbody>\n",
              "    <tr>\n",
              "      <th>0</th>\n",
              "      <td>0</td>\n",
              "      <td>씨름은 상고시대로부터 전해져 내려오는 남자들의 대표적인 놀이로서, 소년이나 장정들이...</td>\n",
              "      <td>씨름의 여자들의 놀이이다.</td>\n",
              "      <td>contradiction</td>\n",
              "    </tr>\n",
              "    <tr>\n",
              "      <th>1</th>\n",
              "      <td>1</td>\n",
              "      <td>삼성은 자작극을 벌인 2명에게 형사 고소 등의 법적 대응을 검토 중이라고 하였으나,...</td>\n",
              "      <td>자작극을 벌인 이는 3명이다.</td>\n",
              "      <td>contradiction</td>\n",
              "    </tr>\n",
              "    <tr>\n",
              "      <th>2</th>\n",
              "      <td>2</td>\n",
              "      <td>이를 위해 예측적 범죄예방 시스템을 구축하고 고도화한다.</td>\n",
              "      <td>예측적 범죄예방 시스템 구축하고 고도화하는 것은 목적이 있기 때문이다.</td>\n",
              "      <td>entailment</td>\n",
              "    </tr>\n",
              "    <tr>\n",
              "      <th>3</th>\n",
              "      <td>3</td>\n",
              "      <td>광주광역시가 재개발 정비사업 원주민들에 대한 종합대책을 마련하는 등 원주민 보호에 ...</td>\n",
              "      <td>원주민들은 종합대책에 만족했다.</td>\n",
              "      <td>neutral</td>\n",
              "    </tr>\n",
              "    <tr>\n",
              "      <th>4</th>\n",
              "      <td>4</td>\n",
              "      <td>진정 소비자와 직원들에게 사랑 받는 기업으로 오래 지속되고 싶으면, 이런 상황에서는...</td>\n",
              "      <td>이런 상황에서 책임 있는 모습을 보여주는 기업은 아주 드물다.</td>\n",
              "      <td>neutral</td>\n",
              "    </tr>\n",
              "  </tbody>\n",
              "</table>\n",
              "</div>\n",
              "      <button class=\"colab-df-convert\" onclick=\"convertToInteractive('df-1cc8c5bd-e9ab-41f8-b1bb-b3e1a967d88e')\"\n",
              "              title=\"Convert this dataframe to an interactive table.\"\n",
              "              style=\"display:none;\">\n",
              "        \n",
              "  <svg xmlns=\"http://www.w3.org/2000/svg\" height=\"24px\"viewBox=\"0 0 24 24\"\n",
              "       width=\"24px\">\n",
              "    <path d=\"M0 0h24v24H0V0z\" fill=\"none\"/>\n",
              "    <path d=\"M18.56 5.44l.94 2.06.94-2.06 2.06-.94-2.06-.94-.94-2.06-.94 2.06-2.06.94zm-11 1L8.5 8.5l.94-2.06 2.06-.94-2.06-.94L8.5 2.5l-.94 2.06-2.06.94zm10 10l.94 2.06.94-2.06 2.06-.94-2.06-.94-.94-2.06-.94 2.06-2.06.94z\"/><path d=\"M17.41 7.96l-1.37-1.37c-.4-.4-.92-.59-1.43-.59-.52 0-1.04.2-1.43.59L10.3 9.45l-7.72 7.72c-.78.78-.78 2.05 0 2.83L4 21.41c.39.39.9.59 1.41.59.51 0 1.02-.2 1.41-.59l7.78-7.78 2.81-2.81c.8-.78.8-2.07 0-2.86zM5.41 20L4 18.59l7.72-7.72 1.47 1.35L5.41 20z\"/>\n",
              "  </svg>\n",
              "      </button>\n",
              "      \n",
              "  <style>\n",
              "    .colab-df-container {\n",
              "      display:flex;\n",
              "      flex-wrap:wrap;\n",
              "      gap: 12px;\n",
              "    }\n",
              "\n",
              "    .colab-df-convert {\n",
              "      background-color: #E8F0FE;\n",
              "      border: none;\n",
              "      border-radius: 50%;\n",
              "      cursor: pointer;\n",
              "      display: none;\n",
              "      fill: #1967D2;\n",
              "      height: 32px;\n",
              "      padding: 0 0 0 0;\n",
              "      width: 32px;\n",
              "    }\n",
              "\n",
              "    .colab-df-convert:hover {\n",
              "      background-color: #E2EBFA;\n",
              "      box-shadow: 0px 1px 2px rgba(60, 64, 67, 0.3), 0px 1px 3px 1px rgba(60, 64, 67, 0.15);\n",
              "      fill: #174EA6;\n",
              "    }\n",
              "\n",
              "    [theme=dark] .colab-df-convert {\n",
              "      background-color: #3B4455;\n",
              "      fill: #D2E3FC;\n",
              "    }\n",
              "\n",
              "    [theme=dark] .colab-df-convert:hover {\n",
              "      background-color: #434B5C;\n",
              "      box-shadow: 0px 1px 3px 1px rgba(0, 0, 0, 0.15);\n",
              "      filter: drop-shadow(0px 1px 2px rgba(0, 0, 0, 0.3));\n",
              "      fill: #FFFFFF;\n",
              "    }\n",
              "  </style>\n",
              "\n",
              "      <script>\n",
              "        const buttonEl =\n",
              "          document.querySelector('#df-1cc8c5bd-e9ab-41f8-b1bb-b3e1a967d88e button.colab-df-convert');\n",
              "        buttonEl.style.display =\n",
              "          google.colab.kernel.accessAllowed ? 'block' : 'none';\n",
              "\n",
              "        async function convertToInteractive(key) {\n",
              "          const element = document.querySelector('#df-1cc8c5bd-e9ab-41f8-b1bb-b3e1a967d88e');\n",
              "          const dataTable =\n",
              "            await google.colab.kernel.invokeFunction('convertToInteractive',\n",
              "                                                     [key], {});\n",
              "          if (!dataTable) return;\n",
              "\n",
              "          const docLinkHtml = 'Like what you see? Visit the ' +\n",
              "            '<a target=\"_blank\" href=https://colab.research.google.com/notebooks/data_table.ipynb>data table notebook</a>'\n",
              "            + ' to learn more about interactive tables.';\n",
              "          element.innerHTML = '';\n",
              "          dataTable['output_type'] = 'display_data';\n",
              "          await google.colab.output.renderOutput(dataTable, element);\n",
              "          const docLink = document.createElement('div');\n",
              "          docLink.innerHTML = docLinkHtml;\n",
              "          element.appendChild(docLink);\n",
              "        }\n",
              "      </script>\n",
              "    </div>\n",
              "  </div>\n",
              "  "
            ],
            "text/plain": [
              "   index  ...          label\n",
              "0      0  ...  contradiction\n",
              "1      1  ...  contradiction\n",
              "2      2  ...     entailment\n",
              "3      3  ...        neutral\n",
              "4      4  ...        neutral\n",
              "\n",
              "[5 rows x 4 columns]"
            ]
          },
          "metadata": {},
          "execution_count": 25
        }
      ]
    },
    {
      "cell_type": "code",
      "source": [
        "print(f\"train_shape : {train.shape}\")\n",
        "print(f\"test_shape : {test.shape}\")\n",
        "print(f\"submission_shape : {submission.shape}\")"
      ],
      "metadata": {
        "colab": {
          "base_uri": "https://localhost:8080/"
        },
        "id": "HVXl199Ow45o",
        "outputId": "483c45fa-21b3-43de-e482-fc7983bf37f4"
      },
      "execution_count": 27,
      "outputs": [
        {
          "output_type": "stream",
          "name": "stdout",
          "text": [
            "train_shape : (24998, 4)\n",
            "test_shape : (1666, 4)\n",
            "submission_shape : (1666, 2)\n"
          ]
        }
      ]
    },
    {
      "cell_type": "markdown",
      "source": [
        "# 데이터 시각화"
      ],
      "metadata": {
        "id": "NBjAgMOL0JZe"
      }
    },
    {
      "cell_type": "markdown",
      "source": [
        "## train target 분포 확인"
      ],
      "metadata": {
        "id": "m7TIublH0L_u"
      }
    },
    {
      "cell_type": "code",
      "source": [
        "# 히스토그램을 사용해서 데이터의 분포를 살펴봅시다\n",
        "feature = train[\"label\"]\n",
        "\n",
        "plt.figure(figsize = (10,7.5)) # 그래프 이미지 크기 설정\n",
        "\n",
        "plt.title('label', fontsize = 20)\n",
        "temp = feature.value_counts()  # feature 변수의 변수별 개수 계산\n",
        "plt.bar(temp.keys(), temp.values, width=0.5)\n",
        "plt.xticks(temp.keys(), fontsize = 15)\n",
        "plt.show()"
      ],
      "metadata": {
        "colab": {
          "base_uri": "https://localhost:8080/",
          "height": 501
        },
        "id": "7H2EFzDt0BZ5",
        "outputId": "42f64bc2-a39f-4e45-d861-e4e9658cbbf9"
      },
      "execution_count": 29,
      "outputs": [
        {
          "output_type": "stream",
          "name": "stderr",
          "text": [
            "findfont: Font family ['NanumBarunGothic'] not found. Falling back to DejaVu Sans.\n"
          ]
        },
        {
          "output_type": "display_data",
          "data": {
            "image/png": "[encoded data removed]",
            "text/plain": [
              "<Figure size 720x540 with 1 Axes>"
            ]
          },
          "metadata": {
            "needs_background": "light"
          }
        }
      ]
    },
    {
      "cell_type": "code",
      "source": [
        ""
      ],
      "metadata": {
        "id": "JgnDcMZL1YQa"
      },
      "execution_count": null,
      "outputs": []
    }
  ]
}